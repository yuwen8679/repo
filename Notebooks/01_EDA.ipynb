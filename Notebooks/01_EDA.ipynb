{
 "cells": [
  {
   "cell_type": "markdown",
   "id": "sublime-indonesia",
   "metadata": {},
   "source": [
    "# Assignment 4- Titanic Kaggle Competition / Tutorial"
   ]
  },
  {
   "cell_type": "markdown",
   "id": "vietnamese-norway",
   "metadata": {},
   "source": [
    "#### Student:Yu-Wen Chen"
   ]
  },
  {
   "cell_type": "markdown",
   "id": "grateful-drive",
   "metadata": {},
   "source": [
    "#### Professor James Hetrick"
   ]
  },
  {
   "cell_type": "markdown",
   "id": "generic-burke",
   "metadata": {},
   "source": [
    "#### ANLT 210 Software Methods Spring 2021"
   ]
  },
  {
   "cell_type": "markdown",
   "id": "younger-tokyo",
   "metadata": {},
   "source": [
    "#### March 10, 2021"
   ]
  },
  {
   "cell_type": "code",
   "execution_count": 1,
   "id": "static-oxide",
   "metadata": {},
   "outputs": [],
   "source": [
    "import pandas as pd\n",
    "import matplotlib.pyplot as plt\n",
    "import pandas_profiling as pdp"
   ]
  },
  {
   "cell_type": "code",
   "execution_count": 4,
   "id": "excess-assurance",
   "metadata": {},
   "outputs": [
    {
     "data": {
      "application/vnd.jupyter.widget-view+json": {
       "model_id": "397447e7f2b440b7a2574a959d47ab62",
       "version_major": 2,
       "version_minor": 0
      },
      "text/plain": [
       "Summarize dataset:   0%|          | 0/21 [00:00<?, ?it/s]"
      ]
     },
     "metadata": {},
     "output_type": "display_data"
    },
    {
     "data": {
      "application/vnd.jupyter.widget-view+json": {
       "model_id": "c807ff73db3649fd8aa177b8618abd71",
       "version_major": 2,
       "version_minor": 0
      },
      "text/plain": [
       "Generate report structure:   0%|          | 0/1 [00:00<?, ?it/s]"
      ]
     },
     "metadata": {},
     "output_type": "display_data"
    },
    {
     "data": {
      "application/vnd.jupyter.widget-view+json": {
       "model_id": "",
       "version_major": 2,
       "version_minor": 0
      },
      "text/plain": [
       "Render widgets:   0%|          | 0/1 [00:00<?, ?it/s]"
      ]
     },
     "metadata": {},
     "output_type": "display_data"
    },
    {
     "data": {
      "application/vnd.jupyter.widget-view+json": {
       "model_id": "c662d6bbaec34170a68eacdf6b930571",
       "version_major": 2,
       "version_minor": 0
      },
      "text/plain": [
       "VBox(children=(Tab(children=(Tab(children=(GridBox(children=(VBox(children=(GridspecLayout(children=(HTML(valu…"
      ]
     },
     "metadata": {},
     "output_type": "display_data"
    }
   ],
   "source": [
    "data = pd.read_csv('/Users/user/Desktop/Software Methods/Titanic/Data/titanic.csv')\n",
    "\n",
    "profile=pdp.ProfileReport(data,title=\"Titanic Profile Report\")\n",
    "\n",
    "profile.to_widgets()\n"
   ]
  },
  {
   "cell_type": "code",
   "execution_count": 5,
   "id": "alternative-error",
   "metadata": {},
   "outputs": [
    {
     "data": {
      "application/vnd.jupyter.widget-view+json": {
       "model_id": "32fe994e6d3a4f8fab3e349bbb2cc31b",
       "version_major": 2,
       "version_minor": 0
      },
      "text/plain": [
       "Render HTML:   0%|          | 0/1 [00:00<?, ?it/s]"
      ]
     },
     "metadata": {},
     "output_type": "display_data"
    },
    {
     "data": {
      "application/vnd.jupyter.widget-view+json": {
       "model_id": "9c363b44dce24e0b8c7ac90cb062562f",
       "version_major": 2,
       "version_minor": 0
      },
      "text/plain": [
       "Export report to file:   0%|          | 0/1 [00:00<?, ?it/s]"
      ]
     },
     "metadata": {},
     "output_type": "display_data"
    }
   ],
   "source": [
    "profile.to_file('Titanic Profile Report.html')"
   ]
  },
  {
   "cell_type": "code",
   "execution_count": null,
   "id": "digital-fever",
   "metadata": {},
   "outputs": [],
   "source": []
  },
  {
   "cell_type": "code",
   "execution_count": null,
   "id": "endless-expansion",
   "metadata": {},
   "outputs": [],
   "source": []
  }
 ],
 "metadata": {
  "kernelspec": {
   "display_name": "Python 3",
   "language": "python",
   "name": "python3"
  },
  "language_info": {
   "codemirror_mode": {
    "name": "ipython",
    "version": 3
   },
   "file_extension": ".py",
   "mimetype": "text/x-python",
   "name": "python",
   "nbconvert_exporter": "python",
   "pygments_lexer": "ipython3",
   "version": "3.8.5"
  }
 },
 "nbformat": 4,
 "nbformat_minor": 5
}
