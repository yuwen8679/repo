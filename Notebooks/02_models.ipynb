{
 "cells": [
  {
   "cell_type": "markdown",
   "id": "double-triumph",
   "metadata": {},
   "source": [
    "# Assignment 4- Titanic Kaggle Competition / Tutorial"
   ]
  },
  {
   "cell_type": "markdown",
   "id": "handy-pittsburgh",
   "metadata": {},
   "source": [
    "#### Student:Yu-Wen Chen"
   ]
  },
  {
   "cell_type": "markdown",
   "id": "excess-interest",
   "metadata": {},
   "source": [
    "#### Professor James Hetrick"
   ]
  },
  {
   "cell_type": "markdown",
   "id": "imperial-saint",
   "metadata": {},
   "source": [
    "#### ANLT 210 Software Methods Spring 2021"
   ]
  },
  {
   "cell_type": "markdown",
   "id": "fallen-detective",
   "metadata": {},
   "source": [
    "#### March 10, 2021"
   ]
  },
  {
   "cell_type": "markdown",
   "id": "finite-marsh",
   "metadata": {},
   "source": [
    "### Split the data into train and test sets(70/30%)"
   ]
  },
  {
   "cell_type": "code",
   "execution_count": 88,
   "id": "built-township",
   "metadata": {},
   "outputs": [],
   "source": [
    "import pandas as pd\n",
    "import numpy as np\n",
    "from sklearn.model_selection import train_test_split\n",
    "from sklearn.ensemble import RandomForestClassifier\n",
    "from sklearn.datasets import make_classification\n",
    "from sklearn.metrics import accuracy_score\n",
    "from sklearn.naive_bayes import GaussianNB\n",
    "from sklearn.linear_model import LogisticRegression\n",
    "from sklearn import preprocessing\n",
    "from sklearn.neighbors import KNeighborsClassifier\n",
    "\n",
    "data = pd.read_csv('/Users/user/Desktop/Software Methods/Titanic/Data/titanic.csv')\n",
    "train,test = train_test_split(data, test_size=0.3,random_state = 55)"
   ]
  },
  {
   "cell_type": "markdown",
   "id": "united-accent",
   "metadata": {},
   "source": [
    "### Select the column of 'Pclass', 'Sex', 'Age', 'Siblings/Spouses Aboard', 'Parents/Children Aboard', and 'Fare' to predict 'Survived'"
   ]
  },
  {
   "cell_type": "code",
   "execution_count": 89,
   "id": "verified-kernel",
   "metadata": {},
   "outputs": [],
   "source": [
    "X_train=train.iloc[:,1:]\n",
    "y_train=train.iloc[:,:1]\n",
    "X_test=test.iloc[:,1:]\n",
    "y_test=test.iloc[:,:1]\n",
    "X_train=X_train.drop(['Name'], axis=1)\n",
    "X_test=X_test.drop(['Name'], axis=1)\n"
   ]
  },
  {
   "cell_type": "markdown",
   "id": "level-visiting",
   "metadata": {},
   "source": [
    "### Replace all the \"male\" and \"female\" into one and zero"
   ]
  },
  {
   "cell_type": "code",
   "execution_count": 91,
   "id": "specialized-proceeding",
   "metadata": {},
   "outputs": [],
   "source": [
    "X_train=X_train.replace(\"male\",1)\n",
    "X_train=X_train.replace(\"female\",0)\n",
    "X_test=X_test.replace(\"male\",1)\n",
    "X_test=X_test.replace(\"female\",0)"
   ]
  },
  {
   "cell_type": "markdown",
   "id": "prime-lender",
   "metadata": {},
   "source": [
    "### Normalize"
   ]
  },
  {
   "cell_type": "code",
   "execution_count": 92,
   "id": "moderate-studio",
   "metadata": {},
   "outputs": [],
   "source": [
    "x = X_train.values\n",
    "min_max_scaler = preprocessing.MinMaxScaler()\n",
    "x_scaled = min_max_scaler.fit_transform(x)\n",
    "X_train = pd.DataFrame(x_scaled)\n",
    "x = X_test.values\n",
    "min_max_scaler = preprocessing.MinMaxScaler()\n",
    "x_scaled = min_max_scaler.fit_transform(x)\n",
    "X_test = pd.DataFrame(x_scaled)\n"
   ]
  },
  {
   "cell_type": "markdown",
   "id": "laden-crown",
   "metadata": {},
   "source": [
    "### Random Forest Classifier"
   ]
  },
  {
   "cell_type": "code",
   "execution_count": 98,
   "id": "instrumental-sherman",
   "metadata": {},
   "outputs": [
    {
     "name": "stdout",
     "output_type": "stream",
     "text": [
      "Accuracy: 0.816\n"
     ]
    }
   ],
   "source": [
    "model = RandomForestClassifier(random_state=10)\n",
    "model.fit(X_train, y_train.values.ravel())\n",
    "yhat = model.predict(X_test)\n",
    "acc = accuracy_score(y_test, yhat)\n",
    "print('Accuracy: %.3f' % acc)"
   ]
  },
  {
   "cell_type": "markdown",
   "id": "spoken-berlin",
   "metadata": {},
   "source": [
    "### Gaussian Naive Bayes"
   ]
  },
  {
   "cell_type": "code",
   "execution_count": 99,
   "id": "negative-insurance",
   "metadata": {},
   "outputs": [
    {
     "name": "stdout",
     "output_type": "stream",
     "text": [
      "Accuracy: 0.828\n"
     ]
    }
   ],
   "source": [
    "gnb = GaussianNB()\n",
    "model = gnb.fit(X_train, y_train.values.ravel())\n",
    "yhat = model.predict(X_test)\n",
    "acc = accuracy_score(y_test, yhat)\n",
    "print('Accuracy: %.3f' % acc)"
   ]
  },
  {
   "cell_type": "markdown",
   "id": "departmental-contract",
   "metadata": {},
   "source": [
    "### Logistic Regression"
   ]
  },
  {
   "cell_type": "code",
   "execution_count": 100,
   "id": "disturbed-overall",
   "metadata": {},
   "outputs": [
    {
     "name": "stdout",
     "output_type": "stream",
     "text": [
      "Accuracy: 0.816\n"
     ]
    }
   ],
   "source": [
    "model = LogisticRegression()\n",
    "model.fit(X_train, y_train.values.ravel())\n",
    "yhat = model.predict(X_test)\n",
    "acc = accuracy_score(y_test, yhat)\n",
    "print('Accuracy: %.3f' % acc)"
   ]
  },
  {
   "cell_type": "markdown",
   "id": "registered-chambers",
   "metadata": {},
   "source": [
    "### KNeighbors Classifier"
   ]
  },
  {
   "cell_type": "code",
   "execution_count": 96,
   "id": "agreed-shakespeare",
   "metadata": {},
   "outputs": [],
   "source": [
    "a=[]\n",
    "k=[]\n",
    "for i in range(3,601,2):\n",
    "    classifier = KNeighborsClassifier(n_neighbors=i)\n",
    "    classifier.fit(X_train, y_train.values.ravel())\n",
    "    yhat = classifier.predict(X_test)\n",
    "    acc = accuracy_score(y_test, yhat)\n",
    "    a.append(round(acc,3))\n",
    "    k.append(i)\n",
    "k=pd.DataFrame(k)\n",
    "a=pd.DataFrame(a)\n",
    "acc= pd.concat([k, a], axis=1)\n",
    "acc.columns = ['k','Accuracy']\n",
    "ans=acc.sort_values(by=['Accuracy'], ascending=False)"
   ]
  },
  {
   "cell_type": "code",
   "execution_count": 97,
   "id": "attended-suspension",
   "metadata": {},
   "outputs": [
    {
     "data": {
      "text/html": [
       "<div>\n",
       "<style scoped>\n",
       "    .dataframe tbody tr th:only-of-type {\n",
       "        vertical-align: middle;\n",
       "    }\n",
       "\n",
       "    .dataframe tbody tr th {\n",
       "        vertical-align: top;\n",
       "    }\n",
       "\n",
       "    .dataframe thead th {\n",
       "        text-align: right;\n",
       "    }\n",
       "</style>\n",
       "<table border=\"1\" class=\"dataframe\">\n",
       "  <thead>\n",
       "    <tr style=\"text-align: right;\">\n",
       "      <th></th>\n",
       "      <th>k</th>\n",
       "      <th>Accuracy</th>\n",
       "    </tr>\n",
       "  </thead>\n",
       "  <tbody>\n",
       "    <tr>\n",
       "      <th>6</th>\n",
       "      <td>15</td>\n",
       "      <td>0.854</td>\n",
       "    </tr>\n",
       "    <tr>\n",
       "      <th>5</th>\n",
       "      <td>13</td>\n",
       "      <td>0.850</td>\n",
       "    </tr>\n",
       "    <tr>\n",
       "      <th>7</th>\n",
       "      <td>17</td>\n",
       "      <td>0.846</td>\n",
       "    </tr>\n",
       "    <tr>\n",
       "      <th>13</th>\n",
       "      <td>29</td>\n",
       "      <td>0.839</td>\n",
       "    </tr>\n",
       "    <tr>\n",
       "      <th>21</th>\n",
       "      <td>45</td>\n",
       "      <td>0.839</td>\n",
       "    </tr>\n",
       "    <tr>\n",
       "      <th>...</th>\n",
       "      <td>...</td>\n",
       "      <td>...</td>\n",
       "    </tr>\n",
       "    <tr>\n",
       "      <th>241</th>\n",
       "      <td>485</td>\n",
       "      <td>0.610</td>\n",
       "    </tr>\n",
       "    <tr>\n",
       "      <th>240</th>\n",
       "      <td>483</td>\n",
       "      <td>0.610</td>\n",
       "    </tr>\n",
       "    <tr>\n",
       "      <th>239</th>\n",
       "      <td>481</td>\n",
       "      <td>0.610</td>\n",
       "    </tr>\n",
       "    <tr>\n",
       "      <th>238</th>\n",
       "      <td>479</td>\n",
       "      <td>0.610</td>\n",
       "    </tr>\n",
       "    <tr>\n",
       "      <th>298</th>\n",
       "      <td>599</td>\n",
       "      <td>0.610</td>\n",
       "    </tr>\n",
       "  </tbody>\n",
       "</table>\n",
       "<p>299 rows × 2 columns</p>\n",
       "</div>"
      ],
      "text/plain": [
       "       k  Accuracy\n",
       "6     15     0.854\n",
       "5     13     0.850\n",
       "7     17     0.846\n",
       "13    29     0.839\n",
       "21    45     0.839\n",
       "..   ...       ...\n",
       "241  485     0.610\n",
       "240  483     0.610\n",
       "239  481     0.610\n",
       "238  479     0.610\n",
       "298  599     0.610\n",
       "\n",
       "[299 rows x 2 columns]"
      ]
     },
     "execution_count": 97,
     "metadata": {},
     "output_type": "execute_result"
    }
   ],
   "source": [
    "ans"
   ]
  },
  {
   "cell_type": "markdown",
   "id": "published-nicaragua",
   "metadata": {},
   "source": [
    "### Linear Regression"
   ]
  },
  {
   "cell_type": "code",
   "execution_count": 87,
   "id": "statistical-research",
   "metadata": {},
   "outputs": [
    {
     "name": "stdout",
     "output_type": "stream",
     "text": [
      "Accuracy: 0.820\n"
     ]
    }
   ],
   "source": [
    "from sklearn.linear_model import LinearRegression\n",
    "clf = LinearRegression()\n",
    "clf.fit(X_train, y_train)\n",
    "predicted = clf.predict(X_test)\n",
    "yhat=[]\n",
    "for i in range(0,len(predicted)):\n",
    "    if predicted[i]>=0.5:\n",
    "        yhat.append(1)\n",
    "    else: yhat.append(0)\n",
    "acc = accuracy_score(y_test, yhat)\n",
    "print('Accuracy: %.3f' % acc)"
   ]
  },
  {
   "cell_type": "markdown",
   "id": "sharp-nigeria",
   "metadata": {},
   "source": [
    "###  Summary         "
   ]
  },
  {
   "cell_type": "markdown",
   "id": "quantitative-heather",
   "metadata": {},
   "source": [
    "##### It seems that the K Neighbors Classifier model has the highest accuracy when the k is equal to 15"
   ]
  },
  {
   "cell_type": "code",
   "execution_count": null,
   "id": "collected-gregory",
   "metadata": {},
   "outputs": [],
   "source": []
  }
 ],
 "metadata": {
  "kernelspec": {
   "display_name": "Python 3",
   "language": "python",
   "name": "python3"
  },
  "language_info": {
   "codemirror_mode": {
    "name": "ipython",
    "version": 3
   },
   "file_extension": ".py",
   "mimetype": "text/x-python",
   "name": "python",
   "nbconvert_exporter": "python",
   "pygments_lexer": "ipython3",
   "version": "3.8.5"
  }
 },
 "nbformat": 4,
 "nbformat_minor": 5
}
